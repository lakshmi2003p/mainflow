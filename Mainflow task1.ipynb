{
 "cells": [
  {
   "cell_type": "markdown",
   "id": "db9a76e5",
   "metadata": {},
   "source": [
    "# LIST"
   ]
  },
  {
   "cell_type": "code",
   "execution_count": 1,
   "id": "04403014",
   "metadata": {},
   "outputs": [
    {
     "name": "stdout",
     "output_type": "stream",
     "text": [
      "[1, 2, 3, 'lucky', 0.02, -0.06]\n"
     ]
    }
   ],
   "source": [
    "#creating a list\n",
    "list=[1,2,3,\"lucky\",-5,0.6]\n",
    "#adding elements to list\n",
    "list.append(-0.06)\n",
    "#modifying elements in list\n",
    "list[5]=0.02\n",
    "#removing the elements from list\n",
    "list.remove(-5)\n",
    "print(list)"
   ]
  },
  {
   "cell_type": "markdown",
   "id": "a1f4cb9d",
   "metadata": {},
   "source": [
    "# DICTIONARY"
   ]
  },
  {
   "cell_type": "code",
   "execution_count": 6,
   "id": "a8624552",
   "metadata": {},
   "outputs": [
    {
     "name": "stdout",
     "output_type": "stream",
     "text": [
      "{'name': 'Lucky', 'age': 23, 'city': 'London', 'marks': 90}\n"
     ]
    }
   ],
   "source": [
    "#creating the dictionary\n",
    "my_dict = {\"name\": \"Kin\", \"age\": 23, \"city\": \"London\"}\n",
    "#adding\n",
    "my_dict[\"marks\"]=90\n",
    "my_dict[\"gender\"]=\"female\"\n",
    "#modifying\n",
    "my_dict[\"name\"]=\"Lucky\"\n",
    "#removing\n",
    "del my_dict[\"gender\"]\n",
    "print(my_dict)"
   ]
  },
  {
   "cell_type": "markdown",
   "id": "80d2d5be",
   "metadata": {},
   "source": [
    "# SET"
   ]
  },
  {
   "cell_type": "code",
   "execution_count": 11,
   "id": "9f7e30da",
   "metadata": {},
   "outputs": [
    {
     "name": "stdout",
     "output_type": "stream",
     "text": [
      "set: {1, 3, 4.0, 20, -70.12, 'Maahi'}\n"
     ]
    }
   ],
   "source": [
    "#creating a set\n",
    "my_set={1,2,3,4.0,\"Maahi\"}\n",
    "#adding\n",
    "my_set.add(-70.12)\n",
    "my_set.add(\"venky\")\n",
    "#removing\n",
    "my_set.remove(\"venky\")\n",
    "#modifying\n",
    "my_set.discard(2)\n",
    "my_set.add(20)\n",
    "print(\"set:\",my_set)"
   ]
  },
  {
   "cell_type": "code",
   "execution_count": null,
   "id": "1b0d3a24",
   "metadata": {},
   "outputs": [],
   "source": []
  }
 ],
 "metadata": {
  "kernelspec": {
   "display_name": "Python 3 (ipykernel)",
   "language": "python",
   "name": "python3"
  },
  "language_info": {
   "codemirror_mode": {
    "name": "ipython",
    "version": 3
   },
   "file_extension": ".py",
   "mimetype": "text/x-python",
   "name": "python",
   "nbconvert_exporter": "python",
   "pygments_lexer": "ipython3",
   "version": "3.8.10"
  }
 },
 "nbformat": 4,
 "nbformat_minor": 5
}
